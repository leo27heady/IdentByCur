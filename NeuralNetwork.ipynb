{
  "nbformat": 4,
  "nbformat_minor": 0,
  "metadata": {
    "colab": {
      "name": "Copy of neuralNetwork.ipynb",
      "provenance": [],
      "collapsed_sections": []
    },
    "kernelspec": {
      "display_name": "Python 3",
      "name": "python3"
    }
  },
  "cells": [
    {
      "cell_type": "code",
      "metadata": {
        "id": "YUVowGVWfKnT",
        "colab_type": "code",
        "colab": {}
      },
      "source": [
        "from sklearn.preprocessing import StandardScaler\n",
        "from sklearn.model_selection import train_test_split\n",
        "from sklearn.metrics import accuracy_score\n",
        "import numpy as np\n",
        "import numpy.random as r\n",
        "import matplotlib.pyplot as plt\n",
        "import pickle"
      ],
      "execution_count": 0,
      "outputs": []
    },
    {
      "cell_type": "code",
      "metadata": {
        "id": "3KB85cmDfKr-",
        "colab_type": "code",
        "colab": {}
      },
      "source": [
        "def f(x):\n",
        "    return 1 / (1 + np.exp(-x))\n",
        "    \n",
        "def f_deriv(x):\n",
        "    return f(x) * (1 - f(x))"
      ],
      "execution_count": 0,
      "outputs": []
    },
    {
      "cell_type": "code",
      "metadata": {
        "id": "aMFK4FR_r53i",
        "colab_type": "code",
        "colab": {}
      },
      "source": [
        "def setup_and_init_weights(nn_structure):\n",
        "    W = {}\n",
        "    b = {}\n",
        "    for l in range(1, len(nn_structure)):\n",
        "        W[l] = r.random_sample((nn_structure[l], nn_structure[l-1]))\n",
        "        b[l] = r.random_sample((nn_structure[l],))\n",
        "    return W, b"
      ],
      "execution_count": 0,
      "outputs": []
    },
    {
      "cell_type": "code",
      "metadata": {
        "id": "RetFr28wr58K",
        "colab_type": "code",
        "colab": {}
      },
      "source": [
        "def init_tri_values(nn_structure):\n",
        "    tri_W = {}\n",
        "    tri_b = {}\n",
        "    for l in range(1, len(nn_structure)):\n",
        "        tri_W[l] = np.zeros((nn_structure[l], nn_structure[l-1]))\n",
        "        tri_b[l] = np.zeros((nn_structure[l],))\n",
        "    return tri_W, tri_b"
      ],
      "execution_count": 0,
      "outputs": []
    },
    {
      "cell_type": "code",
      "metadata": {
        "id": "k4VvRNVzr5_S",
        "colab_type": "code",
        "colab": {}
      },
      "source": [
        "def feed_forward(x, W, b):\n",
        "    h = {1: x}\n",
        "    z = {}\n",
        "    for l in range(1, len(W) + 1):\n",
        "        # if its the first layer, then the input into the weights is x, otherwise,\n",
        "        # it is the output from the last layer\n",
        "        if l == 1:\n",
        "            node_in = x\n",
        "        else:\n",
        "            node_in = h[l]\n",
        "        z[l+1] = W[l].dot(node_in) + b[l] # z^(l+1) = W^(l)*h^(l) + b^(l)\n",
        "        h[l+1] = f(z[l+1]) # h^(l) = f(z^(l))\n",
        "    return h, z"
      ],
      "execution_count": 0,
      "outputs": []
    },
    {
      "cell_type": "code",
      "metadata": {
        "id": "MHeaumR5r56W",
        "colab_type": "code",
        "colab": {}
      },
      "source": [
        "def calculate_out_layer_delta(y, h_out, z_out):\n",
        "    # delta^(nl) = -(y_i - h_i^(nl)) * f'(z_i^(nl))\n",
        "    return -(y-h_out) * f_deriv(z_out)\n",
        "\n",
        "\n",
        "def calculate_hidden_delta(delta_plus_1, w_l, z_l):\n",
        "    # delta^(l) = (transpose(W^(l)) * delta^(l+1)) * f'(z^(l))\n",
        "    return np.dot(np.transpose(w_l), delta_plus_1) * f_deriv(z_l)"
      ],
      "execution_count": 0,
      "outputs": []
    },
    {
      "cell_type": "code",
      "metadata": {
        "id": "dTSc2nxzr51g",
        "colab_type": "code",
        "colab": {}
      },
      "source": [
        "def train_nn(nn_structure, X, y, iter_num=3000, alpha=0.25):\n",
        "    W, b = setup_and_init_weights(nn_structure)\n",
        "    cnt = 0\n",
        "    m = len(y)\n",
        "    avg_cost_func = []\n",
        "    print('Starting gradient descent for {} iterations'.format(iter_num))\n",
        "    while cnt < iter_num:\n",
        "        if cnt%1000 == 0:\n",
        "            print('Iteration {} of {}'.format(cnt, iter_num))\n",
        "        tri_W, tri_b = init_tri_values(nn_structure)\n",
        "        avg_cost = 0\n",
        "        for i in range(len(y)):\n",
        "            delta = {}\n",
        "            # perform the feed forward pass and return the stored h and z values | выполнить проход прямого распостранения и вернуть сохраненные значения h и z\n",
        "            # to be used in the gradient descent step | которые будут использоваться на этапе градиентного спуска\n",
        "            h, z = feed_forward(X[i, :], W, b)\n",
        "            # loop from nl-1 to 1 backpropagating the errors | цикл от nl(длина сети) до 1, обратное распостранение ошибки\n",
        "            for l in range(len(nn_structure), 0, -1): # [3, 2, 1]\n",
        "                if l == len(nn_structure): # если ето виходной слой, то\n",
        "                    delta[l] = calculate_out_layer_delta(y[i], h[l], z[l]) # оценочная функция для выходного слоя\n",
        "                    avg_cost += np.linalg.norm((y[i]-h[l])) # norm of the matrix\n",
        "                else: \n",
        "                    if l > 1: # если скрый слой\n",
        "                        delta[l] = calculate_hidden_delta(delta[l+1], W[l], z[l]) # оценочная функция для скрытого слоя\n",
        "                    # triW^(l) = triW^(l) + delta^(l+1) * transpose(h^(l))\n",
        "                    tri_W[l] += np.dot(delta[l+1][:,np.newaxis], np.transpose(h[l][:,np.newaxis])) # сумма частных производных функции оценки каждого экземпляра\n",
        "                    # trib^(l) = trib^(l) + delta^(l+1)\n",
        "                    tri_b[l] += delta[l+1]\n",
        "        # perform the gradient descent step for the weights in each layer\n",
        "        for l in range(len(nn_structure) - 1, 0, -1): # процесс градиентного спуска\n",
        "            W[l] += -alpha * (1.0/m * tri_W[l])\n",
        "            b[l] += -alpha * (1.0/m * tri_b[l])\n",
        "        # complete the average cost calculation\n",
        "        avg_cost = 1.0/m * avg_cost\n",
        "        avg_cost_func.append(avg_cost)\n",
        "        cnt += 1\n",
        "    return W, b, avg_cost_func"
      ],
      "execution_count": 0,
      "outputs": []
    },
    {
      "cell_type": "code",
      "metadata": {
        "id": "rUFKI-HhsFoa",
        "colab_type": "code",
        "colab": {}
      },
      "source": [
        "def predict_y(W, b, X, n_layers):\n",
        "    m = X.shape[0]\n",
        "    y = np.zeros((m,))\n",
        "    for i in range(m):\n",
        "        h, z = feed_forward(X[i, :], W, b)\n",
        "        y[i] = np.argmax(h[n_layers])\n",
        "    return y"
      ],
      "execution_count": 0,
      "outputs": []
    },
    {
      "cell_type": "code",
      "metadata": {
        "id": "H1UUrBgPsFaJ",
        "colab_type": "code",
        "outputId": "6cda68d4-96bf-447d-e7df-8c812120271c",
        "colab": {
          "base_uri": "https://localhost:8080/",
          "height": 1000
        }
      },
      "source": [
        "pickle_in = open(\"/content/tcp.pickle\", \"rb\")\n",
        "transw = pickle.load(pickle_in)\n",
        "\n",
        "X_scale = StandardScaler()\n",
        "X = X_scale.fit_transform(np.array(transw[0])) # поместить в первую часть масива обучающие данные [[T, L, averV, firstV, firstL, maxV, clickT, nDev], ...]\n",
        "y = np.array(transw[1]) # а во вторую ответы [1, 0, 1, ...]\n",
        "\n",
        "X_train, X_test, y_train, y_test = train_test_split(X, y, test_size=0.4)\n",
        "X_train, X_test, y_train, y_test\n"
      ],
      "execution_count": 0,
      "outputs": [
        {
          "output_type": "execute_result",
          "data": {
            "text/plain": [
              "(array([[-7.50006181e-01,  5.42287248e-01,  1.78240202e+00,\n",
              "          4.68136000e-01,  5.44694055e-01, -3.58469431e-01,\n",
              "         -3.32302193e-01, -6.65056392e-01],\n",
              "        [ 1.68819888e+00, -2.10557753e-01, -1.04770659e+00,\n",
              "         -8.04618499e-01, -3.35519297e-01, -3.74305988e-01,\n",
              "         -1.36422832e-01,  1.47434542e+00],\n",
              "        [ 6.35836823e-01, -1.78285808e-01, -7.20889505e-01,\n",
              "         -1.10914228e-01, -2.21118527e-01,  1.42222373e-01,\n",
              "         -4.97004400e-01, -3.26193141e-01],\n",
              "        [-4.19084937e-01,  1.33598078e-01,  4.43800121e-01,\n",
              "         -2.77502199e-01,  3.08517873e-02,  5.67470854e-01,\n",
              "         -3.36786396e-01,  1.03301037e+00],\n",
              "        [-5.91639352e-01, -1.17525355e+00, -1.14264327e+00,\n",
              "         -5.98567167e-01, -1.10313081e+00, -3.78677435e-01,\n",
              "         -4.97865541e-01, -1.11579171e+00],\n",
              "        [-5.19311745e-01, -2.13846131e-01,  1.35803155e-01,\n",
              "          1.15263320e-01, -3.35491101e-01, -3.71348488e-01,\n",
              "          8.61685087e-01, -1.00375437e+00],\n",
              "        [-1.11652172e+00, -8.35778306e-01,  1.42034558e-01,\n",
              "          3.35848960e-02, -5.99099736e-01, -3.75234568e-01,\n",
              "          1.68556062e-01, -1.20469688e+00],\n",
              "        [-3.69725439e-01,  5.00043801e-01,  8.19842770e-01,\n",
              "          4.85021262e-01,  2.78115203e-01, -3.35427066e-01,\n",
              "         -7.48476528e-02,  5.84664892e-01],\n",
              "        [ 1.20026382e-02, -5.64815207e-01, -7.48552723e-01,\n",
              "         -4.72729994e-01, -5.93748229e-01, -3.75805264e-01,\n",
              "         -4.42593333e-01, -2.54843814e-01],\n",
              "        [ 6.34270730e-02,  2.55673567e+00,  2.18758337e+00,\n",
              "          4.81067604e+00,  2.64656484e+00,  4.00804292e+00,\n",
              "         -1.96405987e-01,  4.82107935e-01],\n",
              "        [-4.97417467e-01, -7.00836436e-01, -5.48870023e-01,\n",
              "         -2.88454779e-01, -7.13926371e-01, -3.74966858e-01,\n",
              "          1.36203438e+00, -9.94089130e-01],\n",
              "        [-7.50077623e-01, -7.14185673e-01, -2.91906168e-01,\n",
              "         -3.59990092e-01, -6.16814442e-01, -3.71113667e-01,\n",
              "         -2.86818525e-01, -3.43388988e-04],\n",
              "        [-8.24884720e-01, -1.14112682e+00, -9.40857924e-01,\n",
              "         -3.68756868e-01, -1.03032655e+00, -2.65918054e-01,\n",
              "         -7.99117649e-01, -7.20721935e-01],\n",
              "        [-8.21524420e-01,  2.33957285e-01,  1.48445307e+00,\n",
              "          4.75236532e-02,  3.16260811e-01, -3.70105191e-01,\n",
              "         -3.40568661e-01, -4.92172620e-01],\n",
              "        [ 6.41206911e-01,  1.71990405e+00,  6.61058620e-01,\n",
              "         -4.57631319e-01,  1.17965558e+00,  9.21730196e-01,\n",
              "          1.56712793e-03,  2.05037736e+00],\n",
              "        [ 2.99577923e+00,  1.42699496e+00, -6.27033541e-01,\n",
              "          7.37580511e-01,  1.53440154e+00, -3.54803809e-01,\n",
              "          4.57498415e+00,  7.27737067e-01]]),\n",
              " array([[ 0.22540456, -0.69203201, -0.96430061, -0.61964433, -0.67089631,\n",
              "         -0.3741883 , -0.03200771,  0.47459049],\n",
              "        [-1.02442243, -0.76858723,  0.07731957, -0.24836881, -0.72561743,\n",
              "         -0.37537146, -0.72061635, -0.99224775],\n",
              "        [ 0.0501438 , -0.21445078, -0.43399179, -0.46623612, -0.34172381,\n",
              "         -0.37634702, -0.67866891,  1.82484327],\n",
              "        [-0.76978977,  0.22594921,  1.31549312,  0.48420179,  0.63678039,\n",
              "         -0.36372744,  0.06595488, -0.44807662],\n",
              "        [ 0.9459207 , -0.31206311, -0.92349287, -0.3499627 , -0.44059893,\n",
              "         -0.37523677,  0.12181566,  1.01680834],\n",
              "        [-0.25243862,  0.72756171,  0.88889003, -0.25962531,  0.4394135 ,\n",
              "         -0.3710004 , -0.66551782, -0.70619469],\n",
              "        [ 0.35199237,  2.50092451,  1.62382095,  0.18651641,  2.87985536,\n",
              "          2.76739019, -0.5305117 ,  1.99986269],\n",
              "        [-0.69378351, -0.32414367,  0.24910373, -0.19676395, -0.43051177,\n",
              "         -0.37031129, -0.76093317,  0.27873344],\n",
              "        [ 1.49017148, -0.028849  , -0.90640482, -0.48466188, -0.11907753,\n",
              "         -0.37433244, -0.25121265, -0.04607378],\n",
              "        [-0.35588504, -0.12808539,  0.03232624,  0.0600173 , -0.11561177,\n",
              "         -0.36339406,  0.39981456, -0.87686094],\n",
              "        [-1.19286295, -1.35703997, -1.07673349, -0.52446651, -1.1825852 ,\n",
              "         -0.37805287, -0.21449477, -1.21974539],\n",
              "        [ 1.84929148, -1.00801969, -1.47054799, -0.53962643, -0.91079525,\n",
              "         -0.37871866,  0.23828434, -0.88021872]]),\n",
              " array([1, 1, 1, 1, 1, 1, 1, 1, 1, 1, 1, 1, 1, 1, 1, 1]),\n",
              " array([1, 1, 1, 1, 1, 1, 1, 1, 1, 1, 1, 1]))"
            ]
          },
          "metadata": {
            "tags": []
          },
          "execution_count": 9
        }
      ]
    },
    {
      "cell_type": "code",
      "metadata": {
        "id": "REZSDWXFmsbu",
        "colab_type": "code",
        "outputId": "6a640614-ea0b-45da-97ff-74dc265d322a",
        "colab": {
          "base_uri": "https://localhost:8080/",
          "height": 367
        }
      },
      "source": [
        "# setup the NN structure\n",
        "nn_structure = [8, 32, 1]\n",
        "# train the NN\n",
        "W, b, avg_cost_func = train_nn(nn_structure, X_train, y_train)\n",
        "# plot the avg_cost_func\n",
        "plt.plot(avg_cost_func)\n",
        "plt.ylabel('Average J')\n",
        "plt.xlabel('Iteration number')\n",
        "plt.show()\n",
        "# get the prediction accuracy and print\n",
        "y_pred = predict_y(W, b, X_test, 3)\n",
        "print('Prediction accuracy is {}%'.format(accuracy_score(y_test, y_pred) * 100))"
      ],
      "execution_count": 0,
      "outputs": [
        {
          "output_type": "stream",
          "text": [
            "Starting gradient descent for 3000 iterations\n",
            "Iteration 0 of 3000\n",
            "Iteration 1000 of 3000\n",
            "Iteration 2000 of 3000\n"
          ],
          "name": "stdout"
        },
        {
          "output_type": "display_data",
          "data": {
            "image/png": "[encoded data removed]",
            "text/plain": [
              "<Figure size 432x288 with 1 Axes>"
            ]
          },
          "metadata": {
            "tags": []
          }
        },
        {
          "output_type": "stream",
          "text": [
            "Prediction accuracy is 0.0%\n"
          ],
          "name": "stdout"
        }
      ]
    }
  ]
}