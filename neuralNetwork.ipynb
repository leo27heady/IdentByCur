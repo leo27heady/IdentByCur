{
  "nbformat": 4,
  "nbformat_minor": 0,
  "metadata": {
    "colab": {
      "name": "Copy of neuralNetwork.ipynb",
      "provenance": [],
      "collapsed_sections": [],
      "toc_visible": true
    },
    "kernelspec": {
      "name": "python3",
      "display_name": "Python 3"
    }
  },
  "cells": [
    {
      "cell_type": "markdown",
      "metadata": {
        "id": "xzbyrtIxEgC7",
        "colab_type": "text"
      },
      "source": [
        "# Perceptron"
      ]
    },
    {
      "cell_type": "code",
      "metadata": {
        "id": "YUVowGVWfKnT",
        "colab_type": "code",
        "colab": {}
      },
      "source": [
        "from sklearn.preprocessing import StandardScaler\n",
        "from sklearn.model_selection import train_test_split\n",
        "from sklearn.metrics import accuracy_score\n",
        "import numpy as np\n",
        "import numpy.random as r\n",
        "import matplotlib.pyplot as plt\n",
        "import pickle"
      ],
      "execution_count": 0,
      "outputs": []
    },
    {
      "cell_type": "code",
      "metadata": {
        "id": "3KB85cmDfKr-",
        "colab_type": "code",
        "colab": {}
      },
      "source": [
        "def f(x):\n",
        "    return 1 / (1 + np.exp(-x))\n",
        "    \n",
        "def f_deriv(x):\n",
        "    return f(x) * (1 - f(x))"
      ],
      "execution_count": 0,
      "outputs": []
    },
    {
      "cell_type": "code",
      "metadata": {
        "id": "aMFK4FR_r53i",
        "colab_type": "code",
        "colab": {}
      },
      "source": [
        "def setup_and_init_weights(nn_structure):\n",
        "    W = {}\n",
        "    b = {}\n",
        "    for l in range(1, len(nn_structure)):\n",
        "        W[l] = r.random_sample((nn_structure[l], nn_structure[l-1]))\n",
        "        b[l] = r.random_sample((nn_structure[l],))\n",
        "    return W, b"
      ],
      "execution_count": 0,
      "outputs": []
    },
    {
      "cell_type": "code",
      "metadata": {
        "id": "RetFr28wr58K",
        "colab_type": "code",
        "colab": {}
      },
      "source": [
        "def init_tri_values(nn_structure):\n",
        "    tri_W = {}\n",
        "    tri_b = {}\n",
        "    for l in range(1, len(nn_structure)):\n",
        "        tri_W[l] = np.zeros((nn_structure[l], nn_structure[l-1]))\n",
        "        tri_b[l] = np.zeros((nn_structure[l],))\n",
        "    return tri_W, tri_b"
      ],
      "execution_count": 0,
      "outputs": []
    },
    {
      "cell_type": "code",
      "metadata": {
        "id": "k4VvRNVzr5_S",
        "colab_type": "code",
        "colab": {}
      },
      "source": [
        "def feed_forward(x, W, b):\n",
        "    h = {1: x}\n",
        "    z = {}\n",
        "    for l in range(1, len(W) + 1):\n",
        "        # if its the first layer, then the input into the weights is x, otherwise,\n",
        "        # it is the output from the last layer\n",
        "        if l == 1:\n",
        "            node_in = x\n",
        "        else:\n",
        "            node_in = h[l]\n",
        "        z[l+1] = W[l].dot(node_in) + b[l] # z^(l+1) = W^(l)*h^(l) + b^(l)\n",
        "        h[l+1] = f(z[l+1]) # h^(l) = f(z^(l))\n",
        "    return h, z"
      ],
      "execution_count": 0,
      "outputs": []
    },
    {
      "cell_type": "code",
      "metadata": {
        "id": "MHeaumR5r56W",
        "colab_type": "code",
        "colab": {}
      },
      "source": [
        "def calculate_out_layer_delta(y, h_out, z_out):\n",
        "    # delta^(nl) = -(y_i - h_i^(nl)) * f'(z_i^(nl))\n",
        "    return -(y-h_out) * f_deriv(z_out)\n",
        "\n",
        "\n",
        "def calculate_hidden_delta(delta_plus_1, w_l, z_l):\n",
        "    # delta^(l) = (transpose(W^(l)) * delta^(l+1)) * f'(z^(l))\n",
        "    return np.dot(np.transpose(w_l), delta_plus_1) * f_deriv(z_l)"
      ],
      "execution_count": 0,
      "outputs": []
    },
    {
      "cell_type": "code",
      "metadata": {
        "id": "dTSc2nxzr51g",
        "colab_type": "code",
        "colab": {}
      },
      "source": [
        "def train_nn(nn_structure, X, y, iter_num=3000, alpha=0.25):\n",
        "    W, b = setup_and_init_weights(nn_structure)\n",
        "    cnt = 0\n",
        "    m = len(y)\n",
        "    avg_cost_func = []\n",
        "    print('Starting gradient descent for {} iterations'.format(iter_num))\n",
        "    while cnt < iter_num:\n",
        "        if cnt%100 == 0:\n",
        "            print('Iteration {} of {}'.format(cnt, iter_num))\n",
        "        tri_W, tri_b = init_tri_values(nn_structure)\n",
        "        avg_cost = 0\n",
        "        for i in range(len(y)):\n",
        "            delta = {}\n",
        "            # perform the feed forward pass and return the stored h and z values | выполнить проход прямого распостранения и вернуть сохраненные значения h и z\n",
        "            # to be used in the gradient descent step | которые будут использоваться на этапе градиентного спуска\n",
        "            h, z = feed_forward(X[i, :], W, b)\n",
        "            # loop from nl-1 to 1 backpropagating the errors | цикл от nl(длина сети) до 1, обратное распостранение ошибки\n",
        "            for l in range(len(nn_structure), 0, -1): # [3, 2, 1]\n",
        "                if l == len(nn_structure): # если ето виходной слой, то\n",
        "                    delta[l] = calculate_out_layer_delta(y[i], h[l], z[l]) # оценочная функция для выходного слоя\n",
        "                    avg_cost += np.linalg.norm((y[i]-h[l])) # norm of the matrix\n",
        "                else: \n",
        "                    if l > 1: # если скрый слой\n",
        "                        delta[l] = calculate_hidden_delta(delta[l+1], W[l], z[l]) # оценочная функция для скрытого слоя\n",
        "                    # triW^(l) = triW^(l) + delta^(l+1) * transpose(h^(l))\n",
        "                    tri_W[l] += np.dot(delta[l+1][:,np.newaxis], np.transpose(h[l][:,np.newaxis])) # сумма частных производных функции оценки каждого экземпляра\n",
        "                    # trib^(l) = trib^(l) + delta^(l+1)\n",
        "                    tri_b[l] += delta[l+1]\n",
        "        # perform the gradient descent step for the weights in each layer\n",
        "        for l in range(len(nn_structure) - 1, 0, -1): # процесс градиентного спуска\n",
        "            W[l] += -alpha * (1.0/m * tri_W[l])\n",
        "            b[l] += -alpha * (1.0/m * tri_b[l])\n",
        "        # complete the average cost calculation\n",
        "        avg_cost = 1.0/m * avg_cost\n",
        "        avg_cost_func.append(avg_cost)\n",
        "        cnt += 1\n",
        "    return W, b, avg_cost_func"
      ],
      "execution_count": 0,
      "outputs": []
    },
    {
      "cell_type": "code",
      "metadata": {
        "id": "rUFKI-HhsFoa",
        "colab_type": "code",
        "colab": {}
      },
      "source": [
        "def predict_y(W, b, X, n_layers):\n",
        "    m = X.shape[0]\n",
        "    y = np.zeros((m,))\n",
        "    for i in range(m):\n",
        "        h, z = feed_forward(X[i, :], W, b)\n",
        "        y[i] = np.argmax(h[n_layers])\n",
        "    return y"
      ],
      "execution_count": 0,
      "outputs": []
    },
    {
      "cell_type": "code",
      "metadata": {
        "id": "H1UUrBgPsFaJ",
        "colab_type": "code",
        "colab": {}
      },
      "source": [
        "pickle_in = open(\"/content/tcpALLCombineSUNDAY_END_0.pickle\", \"rb\")\n",
        "transw = pickle.load(pickle_in)"
      ],
      "execution_count": 0,
      "outputs": []
    },
    {
      "cell_type": "code",
      "metadata": {
        "id": "e_mj8WHbkZIU",
        "colab_type": "code",
        "colab": {}
      },
      "source": [
        "import statistics\n",
        "\n",
        "X = np.array(transw[0])\n",
        "pickle_out = open(\"/content/fit_transform_prmtrs.pickle\", \"wb\")  \n",
        "pickle.dump([[statistics.mean(X[:,0].tolist()), statistics.pstdev(X[:,0].tolist()), min(X[:,0].tolist()), max(X[:,0].tolist())],\n",
        "             [statistics.mean(X[:,1].tolist()), statistics.pstdev(X[:,1].tolist()), min(X[:,1].tolist()), max(X[:,1].tolist())],\n",
        "             [statistics.mean(X[:,2].tolist()), statistics.pstdev(X[:,2].tolist()), min(X[:,2].tolist()), max(X[:,2].tolist())],\n",
        "             [statistics.mean(X[:,3].tolist()), statistics.pstdev(X[:,3].tolist()), min(X[:,3].tolist()), max(X[:,3].tolist())],\n",
        "             [statistics.mean(X[:,4].tolist()), statistics.pstdev(X[:,4].tolist()), min(X[:,4].tolist()), max(X[:,4].tolist())],\n",
        "             [statistics.mean(X[:,5].tolist()), statistics.pstdev(X[:,5].tolist()), min(X[:,5].tolist()), max(X[:,5].tolist())],\n",
        "             [statistics.mean(X[:,6].tolist()), statistics.pstdev(X[:,6].tolist()), min(X[:,6].tolist()), max(X[:,6].tolist())],\n",
        "             [statistics.mean(X[:,7].tolist()), statistics.pstdev(X[:,7].tolist()), min(X[:,7].tolist()), max(X[:,7].tolist())]], \n",
        "            pickle_out)\n",
        "pickle_out.close()"
      ],
      "execution_count": 0,
      "outputs": []
    },
    {
      "cell_type": "code",
      "metadata": {
        "id": "Wm3TF57UrHrf",
        "colab_type": "code",
        "outputId": "04b7e6fb-2163-4b2a-8c6f-82aa03e5a2a5",
        "colab": {
          "base_uri": "https://localhost:8080/",
          "height": 756
        }
      },
      "source": [
        "X_scale = StandardScaler()\n",
        "X = X_scale.fit_transform(np.array(transw[0])) # поместить в первую часть масива обучающие данные [[T, L, averV, firstV, firstL, maxV, clickT, nDev], ...]\n",
        "y = np.array(transw[1]) # а во вторую ответы [1, 0, 1, ...]\n",
        "\n",
        "X_train, X_test, y_train, y_test = train_test_split(X, y, test_size=0.1)\n",
        "X_train, X_test, y_train, y_test"
      ],
      "execution_count": 0,
      "outputs": [
        {
          "output_type": "execute_result",
          "data": {
            "text/plain": [
              "(array([[ 0.80154186,  2.04528583,  1.59744239, ...,  0.03520366,\n",
              "          0.14350302, -0.32752605],\n",
              "        [-0.3760782 , -0.38339578, -0.1872603 , ..., -0.09934011,\n",
              "          0.28288447, -0.74547446],\n",
              "        [-0.525198  , -0.65799814, -0.49496253, ..., -0.09873718,\n",
              "          0.39212262,  1.3049179 ],\n",
              "        ...,\n",
              "        [-1.25504639, -1.27239117, -1.09051205, ..., -0.18857025,\n",
              "         -0.32840181, -0.76494168],\n",
              "        [ 0.82091783, -0.25434863, -0.79035534, ..., -0.00589662,\n",
              "          0.25061492, -0.58595337],\n",
              "        [-0.56614342, -1.30363965, -1.55071299, ..., -0.19007104,\n",
              "          0.61321158, -0.73428023]]),\n",
              " array([[-0.16032223, -1.28892086, -1.65893393, ..., -0.17208744,\n",
              "         -0.28611643, -0.81688599],\n",
              "        [-0.780803  , -1.01389658, -0.91676903, ..., -0.19647609,\n",
              "         -0.00686711, -0.28988255],\n",
              "        [ 0.91906909,  0.2507278 , -0.32714135, ...,  0.36129616,\n",
              "          1.10251697, -0.1282333 ],\n",
              "        ...,\n",
              "        [-0.86546073, -0.51136961,  0.13540455, ..., -0.11515024,\n",
              "         -0.1740224 , -0.07215862],\n",
              "        [ 1.94486331,  1.68871227,  0.34817813, ...,  0.23242526,\n",
              "          0.36835805,  0.1115715 ],\n",
              "        [-0.33250077,  0.23106869,  0.71014678, ...,  0.02450826,\n",
              "         -0.07503224,  0.09903111]]),\n",
              " array([1, 1, 0, ..., 1, 0, 0]),\n",
              " array([0, 1, 0, 0, 1, 0, 0, 0, 0, 1, 1, 0, 1, 0, 1, 1, 0, 0, 1, 0, 1, 1,\n",
              "        0, 0, 1, 1, 1, 0, 0, 0, 1, 0, 0, 1, 0, 0, 0, 1, 1, 0, 0, 0, 0, 1,\n",
              "        0, 1, 0, 0, 1, 1, 0, 0, 0, 1, 1, 0, 0, 1, 1, 1, 1, 0, 1, 0, 0, 0,\n",
              "        0, 1, 0, 0, 0, 1, 0, 0, 0, 1, 0, 1, 1, 1, 1, 0, 1, 0, 0, 0, 0, 1,\n",
              "        0, 0, 1, 1, 0, 1, 1, 0, 1, 1, 0, 0, 0, 0, 0, 1, 1, 1, 0, 1, 1, 0,\n",
              "        0, 1, 1, 0, 0, 1, 0, 1, 1, 0, 0, 0, 1, 0, 0, 0, 0, 0, 1, 1, 0, 1,\n",
              "        1, 0, 0, 1, 1, 0, 1, 1, 1, 1, 1, 0, 1, 1, 1, 0, 0, 1, 0, 0, 1, 1,\n",
              "        1, 0, 0, 1, 1, 1, 0, 0, 1, 0, 1, 1, 0, 0, 0, 1, 0, 0, 0, 1, 1, 0,\n",
              "        1, 1, 0, 1, 0, 0, 1, 0, 1, 1, 1, 1, 0, 0, 0, 1, 1, 1, 0, 1, 1, 0,\n",
              "        0, 1, 1, 0, 1, 1, 1, 1, 0, 0, 1, 1, 0, 1, 0, 0, 1, 1, 0, 0, 1, 1,\n",
              "        1, 1, 0, 1, 1, 0, 1, 0, 1, 1, 0, 0, 1, 0, 1, 1, 1, 0, 1, 0, 1, 0,\n",
              "        0, 0, 1, 0, 1, 0, 0, 1, 1, 0, 0, 0, 0, 0, 1, 1, 0, 1, 1, 1, 0, 1,\n",
              "        0, 0, 0, 1, 1, 1, 1, 1, 0, 0, 0, 0, 0, 0, 0, 0, 0, 1, 0, 0, 0, 1,\n",
              "        0, 0, 1, 0, 0, 0, 0, 0, 0, 0, 0, 0, 0, 0, 1, 1, 1, 0, 1, 0, 0, 1,\n",
              "        1, 1, 0, 1, 0, 1, 1, 0, 0, 1, 1, 1, 1, 0, 1, 1, 1, 0, 1]))"
            ]
          },
          "metadata": {
            "tags": []
          },
          "execution_count": 8
        }
      ]
    },
    {
      "cell_type": "code",
      "metadata": {
        "id": "REZSDWXFmsbu",
        "colab_type": "code",
        "outputId": "044607a5-bd27-4b19-ea0e-85ec1dc43571",
        "colab": {
          "base_uri": "https://localhost:8080/",
          "height": 842
        }
      },
      "source": [
        "# setup the NN structure\n",
        "nn_structure = [8, 128, 128, 1]\n",
        "# train the NN\n",
        "W, b, avg_cost_func = train_nn(nn_structure, X_train, y_train)\n",
        "# plot the avg_cost_func\n",
        "plt.plot(avg_cost_func)\n",
        "plt.ylabel('Average J')\n",
        "plt.xlabel('Iteration number')\n",
        "plt.show()\n",
        "# get the prediction accuracy and print\n",
        "y_pred = predict_y(W, b, X_test, 4)\n",
        "print('Prediction accuracy is {}%'.format(accuracy_score(y_test, y_pred) * 100))"
      ],
      "execution_count": 0,
      "outputs": [
        {
          "output_type": "stream",
          "text": [
            "Starting gradient descent for 3000 iterations\n",
            "Iteration 0 of 3000\n",
            "Iteration 100 of 3000\n",
            "Iteration 200 of 3000\n",
            "Iteration 300 of 3000\n",
            "Iteration 400 of 3000\n",
            "Iteration 500 of 3000\n",
            "Iteration 600 of 3000\n",
            "Iteration 700 of 3000\n",
            "Iteration 800 of 3000\n",
            "Iteration 900 of 3000\n",
            "Iteration 1000 of 3000\n",
            "Iteration 1100 of 3000\n",
            "Iteration 1200 of 3000\n",
            "Iteration 1300 of 3000\n",
            "Iteration 1400 of 3000\n",
            "Iteration 1500 of 3000\n",
            "Iteration 1600 of 3000\n",
            "Iteration 1700 of 3000\n",
            "Iteration 1800 of 3000\n",
            "Iteration 1900 of 3000\n",
            "Iteration 2000 of 3000\n",
            "Iteration 2100 of 3000\n",
            "Iteration 2200 of 3000\n",
            "Iteration 2300 of 3000\n",
            "Iteration 2400 of 3000\n",
            "Iteration 2500 of 3000\n",
            "Iteration 2600 of 3000\n",
            "Iteration 2700 of 3000\n",
            "Iteration 2800 of 3000\n",
            "Iteration 2900 of 3000\n"
          ],
          "name": "stdout"
        },
        {
          "output_type": "display_data",
          "data": {
            "image/png": "[encoded data removed]",
            "text/plain": [
              "<Figure size 432x288 with 1 Axes>"
            ]
          },
          "metadata": {
            "tags": []
          }
        },
        {
          "output_type": "stream",
          "text": [
            "Prediction accuracy is 53.21100917431193%\n"
          ],
          "name": "stdout"
        }
      ]
    },
    {
      "cell_type": "code",
      "metadata": {
        "id": "nnvZH7PusDXn",
        "colab_type": "code",
        "colab": {}
      },
      "source": [
        "pickle_out = open(\"/content/NeuralNetworkWeight.pickle\", \"wb\")  \n",
        "pickle.dump([W, b], pickle_out)\n",
        "pickle_out.close()"
      ],
      "execution_count": 0,
      "outputs": []
    },
    {
      "cell_type": "code",
      "metadata": {
        "id": "be2pwlWovE1W",
        "colab_type": "code",
        "colab": {}
      },
      "source": [
        ""
      ],
      "execution_count": 0,
      "outputs": []
    },
    {
      "cell_type": "code",
      "metadata": {
        "id": "q8Fwx1GfvEoz",
        "colab_type": "code",
        "outputId": "e327fcd3-7113-4371-ad66-3dbe91c59a08",
        "colab": {
          "base_uri": "https://localhost:8080/",
          "height": 34
        }
      },
      "source": [
        "from sklearn.neural_network import MLPClassifier\n",
        "\n",
        "mlp = MLPClassifier(hidden_layer_sizes=(8,8,8), activation='relu', solver='adam', max_iter=750)\n",
        "mlp.fit(X_train,y_train)\n",
        "\n",
        "predict_test = mlp.predict(X_test)\n",
        "print('NNA %s' % accuracy_score(y_test, predict_test))"
      ],
      "execution_count": 0,
      "outputs": [
        {
          "output_type": "stream",
          "text": [
            "NNA 0.8501529051987767\n"
          ],
          "name": "stdout"
        }
      ]
    },
    {
      "cell_type": "code",
      "metadata": {
        "id": "njtPcKuY1hK4",
        "colab_type": "code",
        "outputId": "56da8303-7a4c-4991-ca6a-b9409d286852",
        "colab": {
          "base_uri": "https://localhost:8080/",
          "height": 34
        }
      },
      "source": [
        "predict_test.sum()/len(predict_test)"
      ],
      "execution_count": 0,
      "outputs": [
        {
          "output_type": "execute_result",
          "data": {
            "text/plain": [
              "0.5229357798165137"
            ]
          },
          "metadata": {
            "tags": []
          },
          "execution_count": 6
        }
      ]
    },
    {
      "cell_type": "code",
      "metadata": {
        "id": "wXUST0Zews4w",
        "colab_type": "code",
        "colab": {}
      },
      "source": [
        "pickle_out = open(\"/content/NeuralNetworAutoWeight.pickle\", \"wb\")  \n",
        "pickle.dump(mlp, pickle_out)\n",
        "pickle_out.close()"
      ],
      "execution_count": 0,
      "outputs": []
    },
    {
      "cell_type": "markdown",
      "metadata": {
        "id": "5Vuiwb5_En66",
        "colab_type": "text"
      },
      "source": [
        "# Logistic Regression"
      ]
    },
    {
      "cell_type": "code",
      "metadata": {
        "id": "3FQkFS3fEZkp",
        "colab_type": "code",
        "outputId": "dee9d7f6-f20f-41f8-dec2-be07f6913dae",
        "colab": {
          "base_uri": "https://localhost:8080/",
          "height": 34
        }
      },
      "source": [
        "# import\n",
        "from sklearn.linear_model import LogisticRegression\n",
        "\n",
        "# instantiate\n",
        "logreg = LogisticRegression()\n",
        "\n",
        "# fit\n",
        "logreg.fit(X_train, y_train)\n",
        "\n",
        "# predict\n",
        "y_pred = logreg.predict(X_test)\n",
        "\n",
        "print('LogReg %s' % accuracy_score(y_test, y_pred))"
      ],
      "execution_count": 0,
      "outputs": [
        {
          "output_type": "stream",
          "text": [
            "LogReg 0.8103975535168195\n"
          ],
          "name": "stdout"
        }
      ]
    },
    {
      "cell_type": "code",
      "metadata": {
        "id": "zApKttRvsaGI",
        "colab_type": "code",
        "colab": {}
      },
      "source": [
        "pickle_out = open(\"/content/LogisticRegressionWeight.pickle\", \"wb\")  \n",
        "pickle.dump(logreg, pickle_out)\n",
        "pickle_out.close()"
      ],
      "execution_count": 0,
      "outputs": []
    },
    {
      "cell_type": "markdown",
      "metadata": {
        "id": "ZgdHwAurHuwQ",
        "colab_type": "text"
      },
      "source": [
        "# K Neighbors Classifier\n"
      ]
    },
    {
      "cell_type": "code",
      "metadata": {
        "id": "hrKAAy3MH4QW",
        "colab_type": "code",
        "outputId": "5df59853-d30b-41b8-d8a4-4f45efef9255",
        "colab": {
          "base_uri": "https://localhost:8080/",
          "height": 87
        }
      },
      "source": [
        "from sklearn.neighbors import KNeighborsClassifier\n",
        "k_range = np.arange(1, 32)\n",
        "scores = []\n",
        "for k in k_range:\n",
        "    knn = KNeighborsClassifier(n_neighbors=k)\n",
        "    knn.fit(X_train, y_train)\n",
        "    y_pred = knn.predict(X_test)\n",
        "    scores.append(accuracy_score(y_test, y_pred))\n",
        "score = scores.index(max(scores)) + 1\n",
        "print(scores.index(max(scores)), max(scores))\n",
        "knn = KNeighborsClassifier(n_neighbors=score)\n",
        "knn.fit(X_train, y_train)"
      ],
      "execution_count": 0,
      "outputs": [
        {
          "output_type": "stream",
          "text": [
            "8 0.8776758409785933\n"
          ],
          "name": "stdout"
        },
        {
          "output_type": "execute_result",
          "data": {
            "text/plain": [
              "KNeighborsClassifier(algorithm='auto', leaf_size=30, metric='minkowski',\n",
              "                     metric_params=None, n_jobs=None, n_neighbors=9, p=2,\n",
              "                     weights='uniform')"
            ]
          },
          "metadata": {
            "tags": []
          },
          "execution_count": 10
        }
      ]
    },
    {
      "cell_type": "code",
      "metadata": {
        "id": "G9ImaLgRIiLX",
        "colab_type": "code",
        "outputId": "5f52afdb-09c2-4896-a4f3-5e1b6fbf68ec",
        "colab": {
          "base_uri": "https://localhost:8080/",
          "height": 281
        }
      },
      "source": [
        "# plot the relationship between K and testing accuracy\n",
        "plt.plot(k_range, scores)\n",
        "plt.xlabel('Value of K for KNN')\n",
        "plt.ylabel('Testing Accuracy')\n",
        "plt.grid(True)"
      ],
      "execution_count": 0,
      "outputs": [
        {
          "output_type": "display_data",
          "data": {
            "image/png": "[encoded data removed]",
            "text/plain": [
              "<Figure size 432x288 with 1 Axes>"
            ]
          },
          "metadata": {
            "tags": []
          }
        }
      ]
    },
    {
      "cell_type": "code",
      "metadata": {
        "id": "T4qX6F41ssHz",
        "colab_type": "code",
        "colab": {}
      },
      "source": [
        "pickle_out = open(\"/content/KNeighborsWeight.pickle\", \"wb\")  \n",
        "pickle.dump(knn, pickle_out)\n",
        "pickle_out.close()"
      ],
      "execution_count": 0,
      "outputs": []
    },
    {
      "cell_type": "markdown",
      "metadata": {
        "id": "lbcNwlZ4I6qB",
        "colab_type": "text"
      },
      "source": [
        "# Decision Tree Classifier"
      ]
    },
    {
      "cell_type": "code",
      "metadata": {
        "id": "sW-ydxkoI9p5",
        "colab_type": "code",
        "outputId": "f524f791-9219-4ff0-baa4-aa53cb5c60d7",
        "colab": {
          "base_uri": "https://localhost:8080/",
          "height": 34
        }
      },
      "source": [
        "from sklearn import tree\n",
        "clf = tree.DecisionTreeClassifier()\n",
        "clf = clf.fit(X_train, y_train)\n",
        "y_pred = clf.predict(X_test)\n",
        "print('Decision Tree Classifier %s' % accuracy_score(y_test, y_pred))"
      ],
      "execution_count": 0,
      "outputs": [
        {
          "output_type": "stream",
          "text": [
            "Decision Tree Classifier 0.8134556574923547\n"
          ],
          "name": "stdout"
        }
      ]
    },
    {
      "cell_type": "code",
      "metadata": {
        "id": "MaXbONXTt1dD",
        "colab_type": "code",
        "colab": {}
      },
      "source": [
        "pickle_out = open(\"/content/DecisionTreeWeight.pickle\", \"wb\")  \n",
        "pickle.dump(clf, pickle_out)\n",
        "pickle_out.close()"
      ],
      "execution_count": 0,
      "outputs": []
    },
    {
      "cell_type": "markdown",
      "metadata": {
        "id": "EG_MQ8UYNTnF",
        "colab_type": "text"
      },
      "source": [
        "# Random Forest Classifier"
      ]
    },
    {
      "cell_type": "code",
      "metadata": {
        "id": "-IxELsRiNWFG",
        "colab_type": "code",
        "outputId": "ec35f840-8735-4ec4-85ee-49bb6edbcc20",
        "colab": {
          "base_uri": "https://localhost:8080/",
          "height": 34
        }
      },
      "source": [
        "from sklearn.ensemble import RandomForestClassifier\n",
        "rfc = RandomForestClassifier().fit(X_train, y_train)\n",
        "print('RFC %s' % rfc.score(X_test, y_test))"
      ],
      "execution_count": 0,
      "outputs": [
        {
          "output_type": "stream",
          "text": [
            "RFC 0.8593272171253823\n"
          ],
          "name": "stdout"
        }
      ]
    },
    {
      "cell_type": "code",
      "metadata": {
        "id": "7UhjrzTot871",
        "colab_type": "code",
        "colab": {}
      },
      "source": [
        "pickle_out = open(\"/content/RandomForestWeight.pickle\", \"wb\")  \n",
        "pickle.dump(rfc, pickle_out)\n",
        "pickle_out.close()"
      ],
      "execution_count": 0,
      "outputs": []
    },
    {
      "cell_type": "markdown",
      "metadata": {
        "id": "YUXS1ANVN4OF",
        "colab_type": "text"
      },
      "source": [
        "# Extra Trees Classifier"
      ]
    },
    {
      "cell_type": "code",
      "metadata": {
        "id": "hQCUQAXKOICN",
        "colab_type": "code",
        "outputId": "800200d3-c655-4a77-dcce-4c96e5c7b35a",
        "colab": {
          "base_uri": "https://localhost:8080/",
          "height": 313
        }
      },
      "source": [
        "from sklearn.ensemble import ExtraTreesClassifier\n",
        "# fit an Extra Tree model to the data\n",
        "extree = ExtraTreesClassifier().fit(X_train, y_train)\n",
        "print('ETC %s' % extree.score(X_test, y_test))\n",
        "\n",
        "# display the relative importance of each attribute\n",
        "relval = extree.feature_importances_\n",
        "\n",
        "# horizontal bar plot of feature importance\n",
        "pos = np.arange(8) + 0.5\n",
        "plt.barh(pos, relval, align='center')\n",
        "plt.title(\"Feature Importance\")\n",
        "plt.xlabel(\"Model Accuracy\")\n",
        "plt.ylabel(\"Features\") \n",
        "plt.yticks(pos, ('Time', 'Lenth', 'Average Speed', 'First Speed', 'First Lenth', 'Max Speed', 'Click Time', 'Normal Deviation'))\n",
        "plt.grid(True)"
      ],
      "execution_count": 0,
      "outputs": [
        {
          "output_type": "stream",
          "text": [
            "ETC 0.8654434250764526\n"
          ],
          "name": "stdout"
        },
        {
          "output_type": "display_data",
          "data": {
            "image/png": "[encoded data removed]",
            "text/plain": [
              "<Figure size 432x288 with 1 Axes>"
            ]
          },
          "metadata": {
            "tags": []
          }
        }
      ]
    },
    {
      "cell_type": "code",
      "metadata": {
        "id": "_iqq36dDuHEu",
        "colab_type": "code",
        "colab": {}
      },
      "source": [
        "pickle_out = open(\"/content/ExtraTreesWeight.pickle\", \"wb\")  \n",
        "pickle.dump(extree, pickle_out)\n",
        "pickle_out.close()"
      ],
      "execution_count": 0,
      "outputs": []
    },
    {
      "cell_type": "markdown",
      "metadata": {
        "id": "xANcuO-ZKJnK",
        "colab_type": "text"
      },
      "source": [
        "# Gradient Boosting Classifier"
      ]
    },
    {
      "cell_type": "code",
      "metadata": {
        "id": "FidQkhv2KdpY",
        "colab_type": "code",
        "outputId": "3c38cc7b-86ff-4e02-807a-2b5e66deb80e",
        "colab": {
          "base_uri": "https://localhost:8080/",
          "height": 34
        }
      },
      "source": [
        "from sklearn.ensemble import GradientBoostingClassifier\n",
        "# fit\n",
        "gbc = GradientBoostingClassifier().fit(X_train, y_train)\n",
        "\n",
        "print('GBC %s' % gbc.score(X_test, y_test))"
      ],
      "execution_count": 0,
      "outputs": [
        {
          "output_type": "stream",
          "text": [
            "GBC 0.8685015290519877\n"
          ],
          "name": "stdout"
        }
      ]
    },
    {
      "cell_type": "code",
      "metadata": {
        "id": "y0LpD4MQuVJW",
        "colab_type": "code",
        "colab": {}
      },
      "source": [
        "pickle_out = open(\"/content/GradientBoostingWeight.pickle\", \"wb\")  \n",
        "pickle.dump(gbc, pickle_out)\n",
        "pickle_out.close()"
      ],
      "execution_count": 0,
      "outputs": []
    },
    {
      "cell_type": "code",
      "metadata": {
        "id": "eoeeqPGsMIZo",
        "colab_type": "code",
        "colab": {}
      },
      "source": [
        ""
      ],
      "execution_count": 0,
      "outputs": []
    }
  ]
}